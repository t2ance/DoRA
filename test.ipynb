{
 "cells": [
  {
   "cell_type": "code",
   "execution_count": null,
   "outputs": [],
   "source": [
    "# 步骤 1：清理现有的 temp_repo 目录并重新创建\n",
    "!rm -rf temp_repo  # 删除已有的 temp_repo 目录\n",
    "!mkdir temp_repo   # 重新创建 temp_repo 目录\n",
    "\n",
    "# 步骤 2：初始化 Git 仓库\n",
    "%cd temp_repo\n",
    "!git init\n",
    "\n",
    "# 步骤 3：删除现有的 remote 配置并重新添加远程仓库\n",
    "!git remote remove origin  # 删除现有的 origin 配置\n",
    "!git remote add -f origin https://github.com/AGI-Edgerunners/LLM-Adapters.git\n",
    "\n",
    "# 步骤 4：启用 Sparse Checkout\n",
    "!git config core.sparseCheckout true\n",
    "\n",
    "# 步骤 5：指定要下载的文件路径\n",
    "!echo \"dataset/\" >> .git/info/sparse-checkout  # 下载 commonsense datasets 文件夹\n",
    "!echo \"ft-training_set/commonsense_170k.json\" >> .git/info/sparse-checkout  # 下载 commonsense_170k.json 文件\n",
    "\n",
    "# 步骤 6：拉取指定内容\n",
    "!git pull origin main  # 如果主分支是 main\n",
    "# !git pull origin master  # 如果主分支是 master\n",
    "\n",
    "# 步骤 7：返回上一级目录并查看下载的内容\n",
    "%cd ..\n",
    "!ls temp_repo/dataset  # 查看 commonsense datasets 文件夹\n",
    "!ls temp_repo/ft-training_set\n",
    "!mv -f temp_repo/dataset ./dataset\n",
    "!mv -f temp_repo/ft-training_set/commonsense_170k.json ./commonsense_170k.json"
   ],
   "metadata": {
    "collapsed": false
   }
  },
  {
   "cell_type": "code",
   "execution_count": 6,
   "outputs": [
    {
     "name": "stdout",
     "output_type": "stream",
     "text": [
      "Traceback (most recent call last):\r\n",
      "  File \"/DoRA/commonsense_reasoning/finetune.py\", line 14, in <module>\r\n",
      "    import torch\r\n",
      "ModuleNotFoundError: No module named 'torch'\r\n"
     ]
    }
   ],
   "source": [
    "!sh llama_7B_Dora.sh 32 64 ./finetuned_result/dora_r32 0"
   ],
   "metadata": {
    "collapsed": false,
    "ExecuteTime": {
     "end_time": "2024-12-11T12:19:22.059974300Z",
     "start_time": "2024-12-11T12:19:21.167242700Z"
    }
   }
  },
  {
   "cell_type": "code",
   "execution_count": 2,
   "outputs": [
    {
     "name": "stdout",
     "output_type": "stream",
     "text": [
      "Channels:\r\n",
      " - defaults\r\n",
      "Platform: linux-64\r\n",
      "Collecting package metadata (repodata.json): done\r\n",
      "Solving environment: done\r\n",
      "\r\n",
      "# All requested packages already installed.\r\n",
      "\r\n",
      "Installed kernelspec dora_llama in /root/.local/share/jupyter/kernels/dora_llama\r\n"
     ]
    }
   ],
   "source": [
    "!conda install ipykernel -y\n",
    "!python -m ipykernel install --user --name=dora_llama --display-name \"dora_llama\""
   ],
   "metadata": {
    "collapsed": false,
    "ExecuteTime": {
     "end_time": "2024-12-11T12:18:18.926614300Z",
     "start_time": "2024-12-11T12:18:11.655521800Z"
    }
   }
  },
  {
   "cell_type": "code",
   "execution_count": 5,
   "outputs": [
    {
     "name": "stdout",
     "output_type": "stream",
     "text": [
      "Collecting fire\r\n",
      "  Downloading fire-0.7.0.tar.gz (87 kB)\r\n",
      "  Preparing metadata (setup.py) ... \u001B[?25ldone\r\n",
      "\u001B[?25hCollecting termcolor (from fire)\r\n",
      "  Using cached termcolor-2.5.0-py3-none-any.whl.metadata (6.1 kB)\r\n",
      "Using cached termcolor-2.5.0-py3-none-any.whl (7.8 kB)\r\n",
      "Building wheels for collected packages: fire\r\n",
      "  Building wheel for fire (setup.py) ... \u001B[?25ldone\r\n",
      "\u001B[?25h  Created wheel for fire: filename=fire-0.7.0-py3-none-any.whl size=114249 sha256=fddf36cf4f2525ab2e262b36055ac0aa9a7773b93714b4a5661b026dfa3aa605\r\n",
      "  Stored in directory: /root/.cache/pip/wheels/9e/5b/45/29f72e55d87a29426b04b3cfdf20325c079eb97ab74f59017d\r\n",
      "Successfully built fire\r\n",
      "Installing collected packages: termcolor, fire\r\n",
      "Successfully installed fire-0.7.0 termcolor-2.5.0\r\n",
      "\u001B[33mWARNING: Running pip as the 'root' user can result in broken permissions and conflicting behaviour with the system package manager, possibly rendering your system unusable.It is recommended to use a virtual environment instead: https://pip.pypa.io/warnings/venv. Use the --root-user-action option if you know what you are doing and want to suppress this warning.\u001B[0m\u001B[33m\r\n",
      "\u001B[0m"
     ]
    }
   ],
   "source": [
    "!pip install fire"
   ],
   "metadata": {
    "collapsed": false,
    "ExecuteTime": {
     "end_time": "2024-12-11T12:19:17.804933600Z",
     "start_time": "2024-12-11T12:19:15.032177700Z"
    }
   }
  },
  {
   "cell_type": "code",
   "execution_count": null,
   "outputs": [],
   "source": [],
   "metadata": {
    "collapsed": false
   }
  }
 ],
 "metadata": {
  "kernelspec": {
   "name": "dora_llama",
   "language": "python",
   "display_name": "dora_llama"
  },
  "language_info": {
   "codemirror_mode": {
    "name": "ipython",
    "version": 2
   },
   "file_extension": ".py",
   "mimetype": "text/x-python",
   "name": "python",
   "nbconvert_exporter": "python",
   "pygments_lexer": "ipython2",
   "version": "2.7.6"
  }
 },
 "nbformat": 4,
 "nbformat_minor": 0
}

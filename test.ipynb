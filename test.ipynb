{
 "cells": [
  {
   "cell_type": "code",
   "execution_count": 1,
   "metadata": {
    "collapsed": true,
    "ExecuteTime": {
     "end_time": "2024-12-10T14:17:08.403113600Z",
     "start_time": "2024-12-10T14:17:06.672684300Z"
    }
   },
   "outputs": [
    {
     "name": "stdout",
     "output_type": "stream",
     "text": [
      "LICENSE\t\t\t\timgs\r\n",
      "QDoRA\t\t\t\tinstruction_tuning_dvora\r\n",
      "README.md\t\t\tserver\r\n",
      "commonsense_reasoning\t\ttest.ipynb\r\n",
      "image_video_text_understanding\tvisual_instruction_tuning\r\n"
     ]
    }
   ],
   "source": [
    "!ls"
   ]
  },
  {
   "cell_type": "code",
   "execution_count": 2,
   "outputs": [],
   "source": [
    "!cd commonsense_reasoning"
   ],
   "metadata": {
    "collapsed": false,
    "ExecuteTime": {
     "end_time": "2024-12-10T14:47:28.041270200Z",
     "start_time": "2024-12-10T14:47:26.424816300Z"
    }
   }
  },
  {
   "cell_type": "code",
   "execution_count": 4,
   "outputs": [
    {
     "name": "stdout",
     "output_type": "stream",
     "text": [
      "LICENSE\t\t\t\timgs\r\n",
      "QDoRA\t\t\t\tinstruction_tuning_dvora\r\n",
      "README.md\t\t\tserver\r\n",
      "commonsense_reasoning\t\ttest.ipynb\r\n",
      "image_video_text_understanding\tvisual_instruction_tuning\r\n"
     ]
    }
   ],
   "source": [
    "!ls"
   ],
   "metadata": {
    "collapsed": false,
    "ExecuteTime": {
     "end_time": "2024-12-10T14:47:35.654842200Z",
     "start_time": "2024-12-10T14:47:34.039717300Z"
    }
   }
  },
  {
   "cell_type": "code",
   "execution_count": null,
   "outputs": [],
   "source": [],
   "metadata": {
    "collapsed": false
   }
  }
 ],
 "metadata": {
  "kernelspec": {
   "display_name": "Python 3",
   "language": "python",
   "name": "python3"
  },
  "language_info": {
   "codemirror_mode": {
    "name": "ipython",
    "version": 2
   },
   "file_extension": ".py",
   "mimetype": "text/x-python",
   "name": "python",
   "nbconvert_exporter": "python",
   "pygments_lexer": "ipython2",
   "version": "2.7.6"
  }
 },
 "nbformat": 4,
 "nbformat_minor": 0
}
